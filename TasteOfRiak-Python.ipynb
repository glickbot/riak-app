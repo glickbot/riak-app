{
 "cells": [
  {
   "cell_type": "markdown",
   "metadata": {
    "slideshow": {
     "slide_type": "slide"
    }
   },
   "source": [
    "### Connecting to Riak\n",
    "Now, let's start the Python REPL and get set up. Enter the following into the Python REPL:"
   ]
  },
  {
   "cell_type": "code",
   "execution_count": 16,
   "metadata": {
    "collapsed": false,
    "slideshow": {
     "slide_type": "slide"
    }
   },
   "outputs": [],
   "source": [
    "import riak\n",
    "import warnings\n",
    "warnings.filterwarnings(\"ignore\")\n",
    "import pprint\n",
    "pp = pprint.PrettyPrinter(indent=4)"
   ]
  },
  {
   "cell_type": "markdown",
   "metadata": {
    "slideshow": {
     "slide_type": "slide"
    }
   },
   "source": [
    "If you are using a single local Riak node, use the following to create a new client instance:"
   ]
  },
  {
   "cell_type": "code",
   "execution_count": 2,
   "metadata": {
    "collapsed": true,
    "slideshow": {
     "slide_type": "subslide"
    }
   },
   "outputs": [],
   "source": [
    "myClient = riak.RiakClient(pb_port=8087, protocol='pbc')\n",
    "\n",
    "# Because the Python client uses the Protocol Buffers interface by\n",
    "# default, the following will work the same:\n",
    "myClient = riak.RiakClient(pb_port=8087)"
   ]
  },
  {
   "cell_type": "markdown",
   "metadata": {
    "slideshow": {
     "slide_type": "slide"
    }
   },
   "source": [
    "### Creating Objects In Riak\n",
    "First, let’s create a few objects and a bucket to keep them in."
   ]
  },
  {
   "cell_type": "code",
   "execution_count": 3,
   "metadata": {
    "collapsed": false,
    "slideshow": {
     "slide_type": "subslide"
    }
   },
   "outputs": [
    {
     "data": {
      "text/plain": [
       "<riak.riak_object.RiakObject at 0x104590090>"
      ]
     },
     "execution_count": 3,
     "metadata": {},
     "output_type": "execute_result"
    }
   ],
   "source": [
    "myBucket = myClient.bucket('test')\n",
    "\n",
    "val1 = 1\n",
    "key1 = myBucket.new('one', data=val1)\n",
    "key1.store()"
   ]
  },
  {
   "cell_type": "markdown",
   "metadata": {},
   "source": [
    "In this first example, we have stored the integer 1 with the lookup key of one. Next let’s store a simple string value of two with a matching key."
   ]
  },
  {
   "cell_type": "code",
   "execution_count": 4,
   "metadata": {
    "collapsed": false
   },
   "outputs": [
    {
     "data": {
      "text/plain": [
       "<riak.riak_object.RiakObject at 0x103655350>"
      ]
     },
     "execution_count": 4,
     "metadata": {},
     "output_type": "execute_result"
    }
   ],
   "source": [
    "val2 = \"two\"\n",
    "key2 = myBucket.new('two', data=val2)\n",
    "key2.store()"
   ]
  },
  {
   "cell_type": "markdown",
   "metadata": {},
   "source": [
    "That was easy. Finally, let’s store a bit of JSON. You will probably recognize the pattern by now."
   ]
  },
  {
   "cell_type": "code",
   "execution_count": 5,
   "metadata": {
    "collapsed": false
   },
   "outputs": [
    {
     "data": {
      "text/plain": [
       "<riak.riak_object.RiakObject at 0x104590510>"
      ]
     },
     "execution_count": 5,
     "metadata": {},
     "output_type": "execute_result"
    }
   ],
   "source": [
    "val3 = {\"myValue\": 3}\n",
    "key3 = myBucket.new('three', data=val3)\n",
    "key3.store()"
   ]
  },
  {
   "cell_type": "markdown",
   "metadata": {},
   "source": [
    "### Reading Objects From Riak\n",
    "Now that we have a few objects stored, let’s retrieve them and make sure they contain the values we expect."
   ]
  },
  {
   "cell_type": "code",
   "execution_count": 6,
   "metadata": {
    "collapsed": false
   },
   "outputs": [
    {
     "name": "stdout",
     "output_type": "stream",
     "text": [
      "1\n",
      "u'two'\n",
      "{   u'myValue': 3}\n"
     ]
    }
   ],
   "source": [
    "fetched1 = myBucket.get('one')\n",
    "fetched2 = myBucket.get('two')\n",
    "fetched3 = myBucket.get('three')\n",
    "\n",
    "assert val1 == fetched1.data\n",
    "assert val2 == fetched2.data\n",
    "assert val3 == fetched3.data\n",
    "\n",
    "pp.pprint(fetched1.data)\n",
    "pp.pprint(fetched2.data)\n",
    "pp.pprint(fetched3.data)"
   ]
  },
  {
   "cell_type": "markdown",
   "metadata": {},
   "source": [
    "That was easy. We simply request the objects by key."
   ]
  },
  {
   "cell_type": "markdown",
   "metadata": {},
   "source": [
    "### Updating Objects In Riak\n",
    "While some data may be static, other forms of data may need to be updated. This is also easy to accomplish. Let’s update the value of myValue in the 3rd example to 42."
   ]
  },
  {
   "cell_type": "code",
   "execution_count": 7,
   "metadata": {
    "collapsed": false
   },
   "outputs": [
    {
     "data": {
      "text/plain": [
       "<riak.riak_object.RiakObject at 0x104590fd0>"
      ]
     },
     "execution_count": 7,
     "metadata": {},
     "output_type": "execute_result"
    }
   ],
   "source": [
    "fetched3.data[\"myValue\"] = 42\n",
    "fetched3.store()"
   ]
  },
  {
   "cell_type": "markdown",
   "metadata": {},
   "source": [
    "### Deleting Objects From Riak\n",
    "Nothing is complete without a delete. Fortunately, that's easy too."
   ]
  },
  {
   "cell_type": "code",
   "execution_count": 8,
   "metadata": {
    "collapsed": false
   },
   "outputs": [
    {
     "data": {
      "text/plain": [
       "<riak.riak_object.RiakObject at 0x104590fd0>"
      ]
     },
     "execution_count": 8,
     "metadata": {},
     "output_type": "execute_result"
    }
   ],
   "source": [
    "fetched1.delete()\n",
    "fetched2.delete()\n",
    "fetched3.delete()"
   ]
  },
  {
   "cell_type": "markdown",
   "metadata": {},
   "source": [
    "Now we can verify that the objects have been removed from Riak."
   ]
  },
  {
   "cell_type": "code",
   "execution_count": 9,
   "metadata": {
    "collapsed": true
   },
   "outputs": [],
   "source": [
    "assert myBucket.get('one').exists == False\n",
    "assert myBucket.get('two').exists == False\n",
    "assert myBucket.get('three').exists == False"
   ]
  },
  {
   "cell_type": "markdown",
   "metadata": {},
   "source": [
    "### Working With Complex Objects\n",
    "Since the world is a little more complicated than simple integers and bits of strings, let’s see how we can work with more complex objects. Take for example, this object that encapsulates some knowledge about a book."
   ]
  },
  {
   "cell_type": "code",
   "execution_count": 10,
   "metadata": {
    "collapsed": true
   },
   "outputs": [],
   "source": [
    "book = {\n",
    "  'isbn': \"1111979723\",\n",
    "  'title': \"Moby Dick\",\n",
    "  'author': \"Herman Melville\",\n",
    "  'body': \"Call me Ishmael. Some years ago...\",\n",
    "  'copies_owned': 3\n",
    "}"
   ]
  },
  {
   "cell_type": "markdown",
   "metadata": {},
   "source": [
    "All right, so we have some information about our Moby Dick collection that we want to save. Storing this to Riak should look familiar by now:"
   ]
  },
  {
   "cell_type": "code",
   "execution_count": 11,
   "metadata": {
    "collapsed": false
   },
   "outputs": [
    {
     "data": {
      "text/plain": [
       "<riak.riak_object.RiakObject at 0x104590350>"
      ]
     },
     "execution_count": 11,
     "metadata": {},
     "output_type": "execute_result"
    }
   ],
   "source": [
    "booksBucket = myClient.bucket('books')\n",
    "newBook = booksBucket.new(book['isbn'], data=book)\n",
    "newBook.store()"
   ]
  },
  {
   "cell_type": "markdown",
   "metadata": {},
   "source": [
    "Some of you may be thinking, “But how does the Python Riak client encode/decode my object?” If we fetch our book back and print the raw encoded data, we shall know:"
   ]
  },
  {
   "cell_type": "code",
   "execution_count": 12,
   "metadata": {
    "collapsed": false
   },
   "outputs": [
    {
     "name": "stdout",
     "output_type": "stream",
     "text": [
      "{\"body\": \"Call me Ishmael. Some years ago...\", \"author\": \"Herman Melville\", \"isbn\": \"1111979723\", \"copies_owned\": 3, \"title\": \"Moby Dick\"}\n"
     ]
    }
   ],
   "source": [
    "fetchedBook = booksBucket.get(book['isbn'])\n",
    "\n",
    "print(fetchedBook.encoded_data)"
   ]
  },
  {
   "cell_type": "markdown",
   "metadata": {},
   "source": [
    "JSON! The Riak Python client library encodes things as JSON when it can."
   ]
  },
  {
   "cell_type": "code",
   "execution_count": 13,
   "metadata": {
    "collapsed": false
   },
   "outputs": [
    {
     "data": {
      "text/plain": [
       "{'author': 'Herman Melville',\n",
       " 'body': 'Call me Ishmael. Some years ago...',\n",
       " 'copies_owned': 3,\n",
       " 'isbn': '1111979723',\n",
       " 'title': 'Moby Dick'}"
      ]
     },
     "execution_count": 13,
     "metadata": {},
     "output_type": "execute_result"
    }
   ],
   "source": [
    "{\"body\": \"Call me Ishmael. Some years ago...\",\n",
    "\"author\": \"Herman Melville\", \"isbn\": \"1111979723\",\n",
    "\"copies_owned\": 3, \"title\": \"Moby Dick\"}"
   ]
  },
  {
   "cell_type": "markdown",
   "metadata": {},
   "source": [
    "If we wanted to get a deserialized object back we would just use the regular ```fetchedBook.data``` method.\n",
    "\n",
    "Finally, let’s clean up our mess:"
   ]
  },
  {
   "cell_type": "code",
   "execution_count": 14,
   "metadata": {
    "collapsed": false
   },
   "outputs": [
    {
     "data": {
      "text/plain": [
       "<riak.riak_object.RiakObject at 0x104590390>"
      ]
     },
     "execution_count": 14,
     "metadata": {},
     "output_type": "execute_result"
    }
   ],
   "source": [
    "fetchedBook.delete()"
   ]
  }
 ],
 "metadata": {
  "celltoolbar": "Slideshow",
  "kernelspec": {
   "display_name": "Python 2",
   "language": "python",
   "name": "python2"
  },
  "language_info": {
   "codemirror_mode": {
    "name": "ipython",
    "version": 2
   },
   "file_extension": ".py",
   "mimetype": "text/x-python",
   "name": "python",
   "nbconvert_exporter": "python",
   "pygments_lexer": "ipython2",
   "version": "2.7.10"
  }
 },
 "nbformat": 4,
 "nbformat_minor": 0
}
